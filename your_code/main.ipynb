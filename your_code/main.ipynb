{
 "cells": [
  {
   "attachments": {},
   "cell_type": "markdown",
   "metadata": {},
   "source": [
    "# Before you start :\n",
    "   - These exercises are related to the Pivot table and correlation lessons.\n",
    "   - Keep in mind that you need to use some of the functions you learned in the previous lessons.\n",
    "   - All datasets are provided in the `your-code` folder of this lab.\n",
    "   - Elaborate your codes and outputs as much as you can.\n",
    "   - Try your best to answer the questions and complete the tasks and most importantly enjoy the process!!!"
   ]
  },
  {
   "attachments": {},
   "cell_type": "markdown",
   "metadata": {},
   "source": [
    "#### Import all the libraries that are necessary."
   ]
  },
  {
   "cell_type": "code",
   "execution_count": 22,
   "metadata": {},
   "outputs": [],
   "source": [
    "import pandas as pd\n"
   ]
  },
  {
   "attachments": {},
   "cell_type": "markdown",
   "metadata": {},
   "source": [
    "# Challenge 1"
   ]
  },
  {
   "attachments": {},
   "cell_type": "markdown",
   "metadata": {},
   "source": [
    "#### Open the ` Employee.csv` file and name your dataset `employee`."
   ]
  },
  {
   "cell_type": "code",
   "execution_count": 23,
   "metadata": {},
   "outputs": [],
   "source": [
    "employee = pd.read_csv('Employee.csv')\n"
   ]
  },
  {
   "attachments": {},
   "cell_type": "markdown",
   "metadata": {},
   "source": [
    "#### What's the mean salary by department?\n",
    "Hint : There are 2 ways to do it - one way is with groupby and the other way is with pivot tables. Do it both ways. \n"
   ]
  },
  {
   "cell_type": "code",
   "execution_count": 24,
   "metadata": {},
   "outputs": [
    {
     "name": "stdout",
     "output_type": "stream",
     "text": [
      "Department\n",
      "HR       45.00\n",
      "IT       48.75\n",
      "Sales    55.00\n",
      "Name: Salary, dtype: float64\n"
     ]
    }
   ],
   "source": [
    "# Method 1\n",
    "mean_salary_groupby = employee.groupby('Department')['Salary'].mean()\n",
    "print(mean_salary_groupby)"
   ]
  },
  {
   "cell_type": "code",
   "execution_count": 25,
   "metadata": {},
   "outputs": [
    {
     "name": "stdout",
     "output_type": "stream",
     "text": [
      "            Salary\n",
      "Department        \n",
      "HR           45.00\n",
      "IT           48.75\n",
      "Sales        55.00\n"
     ]
    }
   ],
   "source": [
    "# Method 2\n",
    "mean_salary_pivot = pd.pivot_table(employee, values='Salary', index='Department', aggfunc='mean')\n",
    "print(mean_salary_pivot)"
   ]
  },
  {
   "attachments": {},
   "cell_type": "markdown",
   "metadata": {},
   "source": [
    "#### We want now to group the data by more than one column. Use Pandas pivot table function to select the mean salary by department and title."
   ]
  },
  {
   "cell_type": "code",
   "execution_count": 26,
   "metadata": {},
   "outputs": [
    {
     "name": "stdout",
     "output_type": "stream",
     "text": [
      "                      Salary\n",
      "Department Title            \n",
      "HR         VP           70.0\n",
      "           analyst      32.5\n",
      "IT         VP           70.0\n",
      "           analyst      32.5\n",
      "           associate    60.0\n",
      "Sales      associate    55.0\n"
     ]
    }
   ],
   "source": [
    "mean_salary_pivot = pd.pivot_table(employee, values='Salary', index=['Department', 'Title'], aggfunc='mean')\n",
    "print(mean_salary_pivot)\n"
   ]
  },
  {
   "attachments": {},
   "cell_type": "markdown",
   "metadata": {},
   "source": [
    "#### We want to display the number of years of work experience and the salary for each Title. Add Years as a column in your pivot table.\n",
    "*Hint: Use Pandas doc(see References in README.md) to explore the pivot_table() arguments*"
   ]
  },
  {
   "cell_type": "code",
   "execution_count": 27,
   "metadata": {},
   "outputs": [
    {
     "name": "stdout",
     "output_type": "stream",
     "text": [
      "Years         1     2     3     4     7     8\n",
      "Title                                        \n",
      "VP          NaN   NaN   NaN   NaN   NaN  70.0\n",
      "analyst    35.0  30.0   NaN  35.0   NaN   NaN\n",
      "associate   NaN  55.0  55.0   NaN  60.0   NaN\n"
     ]
    }
   ],
   "source": [
    "mean_salary_pivot = pd.pivot_table(employee, values='Salary', index='Title', columns='Years', aggfunc='mean')\n",
    "print(mean_salary_pivot)"
   ]
  },
  {
   "attachments": {},
   "cell_type": "markdown",
   "metadata": {},
   "source": [
    "#### We want to know the information about the mean salary and number of employees in each department and for each job title."
   ]
  },
  {
   "cell_type": "code",
   "execution_count": 28,
   "metadata": {},
   "outputs": [
    {
     "name": "stdout",
     "output_type": "stream",
     "text": [
      "                      Salary  Title\n",
      "Department Title                   \n",
      "HR         VP           70.0      1\n",
      "           analyst      32.5      2\n",
      "IT         VP           70.0      1\n",
      "           analyst      32.5      2\n",
      "           associate    60.0      1\n",
      "Sales      associate    55.0      2\n"
     ]
    }
   ],
   "source": [
    "mean_salary_count_employees_pivot = pd.pivot_table(employee, values='Salary', index=['Department', 'Title'], aggfunc={'Salary': 'mean', 'Title': 'count'})\n",
    "print(mean_salary_count_employees_pivot)"
   ]
  },
  {
   "attachments": {},
   "cell_type": "markdown",
   "metadata": {},
   "source": [
    "#### We want to know for each department and for each job title the Salary's median, minimum, maximum and standard deviation. Comment your results."
   ]
  },
  {
   "cell_type": "code",
   "execution_count": 32,
   "metadata": {},
   "outputs": [],
   "source": [
    "df = pd.read_csv(\"Employee.csv\")  \n",
    "stats = df.groupby([\"Department\", \"Title\"])[\"Salary\"].agg([\"median\", \"min\", \"max\", \"std\"])\n"
   ]
  },
  {
   "attachments": {},
   "cell_type": "markdown",
   "metadata": {},
   "source": [
    "#### Based on your comments, fill the missing values with an appropriate value."
   ]
  },
  {
   "cell_type": "code",
   "execution_count": 30,
   "metadata": {},
   "outputs": [],
   "source": [
    "# your answer here\n"
   ]
  },
  {
   "attachments": {},
   "cell_type": "markdown",
   "metadata": {},
   "source": [
    "#### The stake holders want to know for each department the number of employees and how much money is spend on salaries. Could you provide that information? "
   ]
  },
  {
   "cell_type": "code",
   "execution_count": 37,
   "metadata": {},
   "outputs": [
    {
     "name": "stdout",
     "output_type": "stream",
     "text": [
      "            Title  Salary\n",
      "Department               \n",
      "HR              3     135\n",
      "IT              4     195\n",
      "Sales           2     110\n"
     ]
    }
   ],
   "source": [
    "department_info = df.groupby(\"Department\").agg({\"Title\": \"count\", \"Salary\": \"sum\"})\n",
    "print(department_info)"
   ]
  },
  {
   "attachments": {},
   "cell_type": "markdown",
   "metadata": {},
   "source": [
    "#### For each Department and Title, we want to know the the total years of work experience and the mean salary."
   ]
  },
  {
   "cell_type": "code",
   "execution_count": 41,
   "metadata": {},
   "outputs": [
    {
     "name": "stdout",
     "output_type": "stream",
     "text": [
      "                      Years  Salary\n",
      "Department Title                   \n",
      "HR         VP             8    70.0\n",
      "           analyst        6    32.5\n",
      "IT         VP             8    70.0\n",
      "           analyst        3    32.5\n",
      "           associate      7    60.0\n",
      "Sales      associate      5    55.0\n"
     ]
    }
   ],
   "source": [
    "department_title_info = df.groupby([\"Department\", \"Title\"]).agg({\"Years\": \"sum\", \"Salary\": \"mean\"})\n",
    "print(department_title_info)\n"
   ]
  },
  {
   "attachments": {},
   "cell_type": "markdown",
   "metadata": {},
   "source": [
    "### Bonus\n",
    "\n",
    "#### We now want to compute the mean salary after removing the maxima for each Department. Create the appropriate pivot table.\n",
    "\n",
    "Hint: Write a custom function."
   ]
  },
  {
   "cell_type": "code",
   "execution_count": 46,
   "metadata": {},
   "outputs": [
    {
     "name": "stdout",
     "output_type": "stream",
     "text": [
      "               Salary\n",
      "Department           \n",
      "HR          32.500000\n",
      "IT          41.666667\n"
     ]
    }
   ],
   "source": [
    "import numpy as np\n",
    "\n",
    "def mean_without_max(values):\n",
    "    max_value = max(values)\n",
    "    filtered_values = [v for v in values if v != max_value]\n",
    "    return np.nan if len(filtered_values) == 0 else sum(filtered_values) / len(filtered_values)\n",
    "\n",
    "pivot_table = pd.pivot_table(df, values='Salary', index='Department', aggfunc=mean_without_max)\n",
    "print(pivot_table)\n"
   ]
  },
  {
   "attachments": {},
   "cell_type": "markdown",
   "metadata": {},
   "source": [
    "# Challenge 2"
   ]
  },
  {
   "attachments": {},
   "cell_type": "markdown",
   "metadata": {},
   "source": [
    "#### Open the ` Fitbit.csv` file and name your dataset `fitbit`."
   ]
  },
  {
   "cell_type": "code",
   "execution_count": 47,
   "metadata": {
    "scrolled": true
   },
   "outputs": [
    {
     "name": "stdout",
     "output_type": "stream",
     "text": [
      "           Date  Calorie burned  Steps  Distance  Floors  Minutes Sedentary   \n",
      "0    08-05-2015            1934    905      0.65       0              1.355  \\\n",
      "1    09-05-2015            3631  18925     14.11       4            611.000   \n",
      "2    10-05-2015            3204  14228     10.57       1            602.000   \n",
      "3    11-05-2015            2673   6756      5.02       8            749.000   \n",
      "4    12-05-2015            2495    502      3.73       1            876.000   \n",
      "..          ...             ...    ...       ...     ...                ...   \n",
      "362  03-05-2016            3796  18588     14.13      16            599.000   \n",
      "363  04-05-2016            3525  16382     12.39      16            684.000   \n",
      "364  05-05-2016            3649  21913     16.40      19            701.000   \n",
      "365  06-05-2016            3539  19023     14.79      15            575.000   \n",
      "366  07-05-2016             304   9526      7.08       2            564.000   \n",
      "\n",
      "     Minutes Lightly Active  Minutes Fairly Active  Minutes Very Active   \n",
      "0                        46                      0                    0  \\\n",
      "1                       316                     61                   60   \n",
      "2                       226                     14                   77   \n",
      "3                       190                     23                    4   \n",
      "4                       171                      0                    0   \n",
      "..                      ...                    ...                  ...   \n",
      "362                     275                     49                   79   \n",
      "363                     333                     10                   55   \n",
      "364                     287                     29                   90   \n",
      "365                     298                      8                   85   \n",
      "366                     370                     13                   10   \n",
      "\n",
      "     Activity Calories  MinutesOfSleep  MinutesOfBeingAwake  NumberOfAwakings   \n",
      "0                 1680             384                   26                23  \\\n",
      "1                 2248             454                   35                21   \n",
      "2                 1719             387                   46                25   \n",
      "3                 9620             311                   31                21   \n",
      "4                 7360             407                   65                44   \n",
      "..                 ...             ...                  ...               ...   \n",
      "362                236             377                   33                18   \n",
      "363               2075             406                   21                 8   \n",
      "364               2249             280                   35                15   \n",
      "365               2112             370                   42                22   \n",
      "366               1604             502                   57                31   \n",
      "\n",
      "     LengthOfRestInMinutes  \n",
      "0                      417  \n",
      "1                      491  \n",
      "2                      436  \n",
      "3                      350  \n",
      "4                      491  \n",
      "..                     ...  \n",
      "362                    410  \n",
      "363                    427  \n",
      "364                    315  \n",
      "365                    412  \n",
      "366                    563  \n",
      "\n",
      "[367 rows x 14 columns]\n"
     ]
    }
   ],
   "source": [
    "import pandas as pd\n",
    "\n",
    "fitbit = pd.read_csv(\"Fitbit.csv\")\n",
    "print(fitbit)"
   ]
  },
  {
   "attachments": {},
   "cell_type": "markdown",
   "metadata": {},
   "source": [
    "#### Explore you dataset in terms of data types and descriptive statistics.\n",
    "Hint: Use Pandas functions from previous lectures."
   ]
  },
  {
   "cell_type": "code",
   "execution_count": 48,
   "metadata": {},
   "outputs": [
    {
     "name": "stdout",
     "output_type": "stream",
     "text": [
      "Date                       object\n",
      "Calorie burned              int64\n",
      "Steps                       int64\n",
      "Distance                  float64\n",
      "Floors                      int64\n",
      "Minutes Sedentary         float64\n",
      "Minutes Lightly Active      int64\n",
      "Minutes Fairly Active       int64\n",
      "Minutes Very Active         int64\n",
      "Activity Calories           int64\n",
      "MinutesOfSleep              int64\n",
      "MinutesOfBeingAwake         int64\n",
      "NumberOfAwakings            int64\n",
      "LengthOfRestInMinutes       int64\n",
      "dtype: object\n"
     ]
    }
   ],
   "source": [
    "print(fitbit.dtypes)"
   ]
  },
  {
   "cell_type": "code",
   "execution_count": 49,
   "metadata": {},
   "outputs": [
    {
     "name": "stdout",
     "output_type": "stream",
     "text": [
      "       Calorie burned         Steps    Distance      Floors   \n",
      "count      367.000000    367.000000  367.000000  367.000000  \\\n",
      "mean      2741.501362  10121.588556    8.549128   11.724796   \n",
      "std        916.307036   5594.836225    3.409881   10.337370   \n",
      "min        179.000000      0.000000    0.000000    0.000000   \n",
      "25%       2698.000000   6730.500000    6.155000    5.000000   \n",
      "50%       2974.000000  10413.000000    8.290000   11.000000   \n",
      "75%       3233.000000  13916.500000   10.560000   16.000000   \n",
      "max       4351.000000  26444.000000   20.450000  101.000000   \n",
      "\n",
      "       Minutes Sedentary  Minutes Lightly Active  Minutes Fairly Active   \n",
      "count         367.000000              367.000000             367.000000  \\\n",
      "mean          563.934482              236.405995              26.163488   \n",
      "std           294.793145               86.531376              20.319456   \n",
      "min             1.002000                0.000000               0.000000   \n",
      "25%           520.000000              179.000000               8.000000   \n",
      "50%           663.000000              226.000000              24.000000   \n",
      "75%           756.500000              290.000000              41.500000   \n",
      "max           998.000000              472.000000             101.000000   \n",
      "\n",
      "       Minutes Very Active  Activity Calories  MinutesOfSleep   \n",
      "count           367.000000         367.000000      367.000000  \\\n",
      "mean             35.722071        2044.147139      290.479564   \n",
      "std              31.006682        2041.267168      154.752328   \n",
      "min               0.000000           0.000000        0.000000   \n",
      "25%              10.500000        1218.500000      224.000000   \n",
      "50%              29.000000        1553.000000      337.000000   \n",
      "75%              54.000000        1927.500000      400.500000   \n",
      "max             153.000000        9830.000000      553.000000   \n",
      "\n",
      "       MinutesOfBeingAwake  NumberOfAwakings  LengthOfRestInMinutes  \n",
      "count           367.000000        367.000000             367.000000  \n",
      "mean             28.008174         16.196185             321.343324  \n",
      "std              18.541415         10.757622             170.786726  \n",
      "min               0.000000          0.000000               0.000000  \n",
      "25%              14.000000          7.000000             248.000000  \n",
      "50%              29.000000         16.000000             370.000000  \n",
      "75%              41.500000         24.000000             440.500000  \n",
      "max              78.000000         45.000000             607.000000  \n"
     ]
    }
   ],
   "source": [
    "print(fitbit.describe())\n"
   ]
  },
  {
   "cell_type": "code",
   "execution_count": 50,
   "metadata": {},
   "outputs": [
    {
     "name": "stdout",
     "output_type": "stream",
     "text": [
      "Date                      367\n",
      "Calorie burned            367\n",
      "Steps                     367\n",
      "Distance                  367\n",
      "Floors                    367\n",
      "Minutes Sedentary         367\n",
      "Minutes Lightly Active    367\n",
      "Minutes Fairly Active     367\n",
      "Minutes Very Active       367\n",
      "Activity Calories         367\n",
      "MinutesOfSleep            367\n",
      "MinutesOfBeingAwake       367\n",
      "NumberOfAwakings          367\n",
      "LengthOfRestInMinutes     367\n",
      "dtype: int64\n"
     ]
    }
   ],
   "source": [
    "print(fitbit.count())"
   ]
  },
  {
   "attachments": {},
   "cell_type": "markdown",
   "metadata": {},
   "source": [
    "#### You suspect that there must be a linear relationship between the Minutes Very Active and the Steps. Compute the correlation between these variables."
   ]
  },
  {
   "cell_type": "code",
   "execution_count": 51,
   "metadata": {},
   "outputs": [
    {
     "name": "stdout",
     "output_type": "stream",
     "text": [
      "0.5714518481062612\n"
     ]
    }
   ],
   "source": [
    "correlation = fitbit['Minutes Very Active'].corr(fitbit['Steps'])\n",
    "print(correlation)\n"
   ]
  },
  {
   "attachments": {},
   "cell_type": "markdown",
   "metadata": {},
   "source": [
    "#### Use matplotlib to visually plot Minutes Very active vs Steps. \n",
    "\n",
    "##### Hint : import matplotlib.pyplot as plt (See previous lessons)#####\n",
    "- Use plt.scatter(x=df['col_name_1'], y=df['col_name_2'])"
   ]
  },
  {
   "cell_type": "code",
   "execution_count": 52,
   "metadata": {},
   "outputs": [
    {
     "data": {
      "image/png": "[encoded data removed]",
      "text/plain": [
       "<Figure size 640x480 with 1 Axes>"
      ]
     },
     "metadata": {},
     "output_type": "display_data"
    }
   ],
   "source": [
    "import matplotlib.pyplot as plt\n",
    "\n",
    "plt.scatter(x=fitbit['Minutes Very Active'], y=fitbit['Steps'])\n",
    "plt.xlabel('Minutes Very Active')\n",
    "plt.ylabel('Steps')\n",
    "plt.title('Minutes Very Active vs Steps')\n",
    "plt.show()"
   ]
  },
  {
   "attachments": {},
   "cell_type": "markdown",
   "metadata": {},
   "source": [
    "#### What can you say about Minute Very Active and Steps? Write a comment below"
   ]
  },
  {
   "cell_type": "code",
   "execution_count": 58,
   "metadata": {},
   "outputs": [
    {
     "name": "stdout",
     "output_type": "stream",
     "text": [
      "0.5714518481062612\n"
     ]
    }
   ],
   "source": [
    "# essas duas variaveis nao sao estritamentes perfeitas, pois os pontos sao dispersos o que indica que nao e uma relacao linear entre elas. Isso pode ser defido a n fatores...mas tem uma correlacao muito alta entre essas duas variaveis 0,57\n",
    "correlation = fitbit['Minutes Very Active'].corr(fitbit['Steps'])\n",
    "print(correlation)\n"
   ]
  },
  {
   "attachments": {},
   "cell_type": "markdown",
   "metadata": {},
   "source": [
    "#### We also suspect that there must be a linear relationship between the Minutes Sedentary and the Steps. Compute the correlation between these variables."
   ]
  },
  {
   "cell_type": "code",
   "execution_count": 57,
   "metadata": {},
   "outputs": [
    {
     "name": "stdout",
     "output_type": "stream",
     "text": [
      "0.07690608062990098\n"
     ]
    }
   ],
   "source": [
    "correlation = fitbit['Minutes Sedentary'].corr(fitbit['Steps'])\n",
    "print(correlation)"
   ]
  },
  {
   "attachments": {},
   "cell_type": "markdown",
   "metadata": {},
   "source": [
    "#### Use matplotlib to visually plot Minutes Sedentary vs Steps. Based on the results of the computed correlation and the plot. What can you say about these 2 variables?"
   ]
  },
  {
   "cell_type": "code",
   "execution_count": 59,
   "metadata": {},
   "outputs": [
    {
     "data": {
      "image/png": "[encoded data removed]",
      "text/plain": [
       "<Figure size 640x480 with 1 Axes>"
      ]
     },
     "metadata": {},
     "output_type": "display_data"
    }
   ],
   "source": [
    "import matplotlib.pyplot as plt\n",
    "\n",
    "plt.scatter(x=fitbit['Minutes Sedentary'], y=fitbit['Steps'])\n",
    "plt.xlabel('Minutes Sedentary')\n",
    "plt.ylabel('Steps')\n",
    "plt.title('Minutes Sedentary vs Steps')\n",
    "plt.show()"
   ]
  },
  {
   "attachments": {},
   "cell_type": "markdown",
   "metadata": {},
   "source": [
    "#### We also suspect that there must be a linear relationship between the MinutesOfSleep and the Steps. Compute the correlation between these variables."
   ]
  },
  {
   "cell_type": "code",
   "execution_count": 60,
   "metadata": {},
   "outputs": [],
   "source": [
    "# horrivel, quase inexistente. Nao conseguiriamos associar essas duas variaveis dados que o coeficiente de correlacao é quase 0 :)\n"
   ]
  },
  {
   "attachments": {},
   "cell_type": "markdown",
   "metadata": {},
   "source": [
    "#### Use matplotlib to visually plot MinutesOfSleep vs Steps. Based on the results of the computed correlation and the plot. What can you say about these 2 variables?"
   ]
  },
  {
   "cell_type": "code",
   "execution_count": 61,
   "metadata": {},
   "outputs": [
    {
     "data": {
      "image/png": "[encoded data removed]",
      "text/plain": [
       "<Figure size 640x480 with 1 Axes>"
      ]
     },
     "metadata": {},
     "output_type": "display_data"
    }
   ],
   "source": [
    "plt.scatter(x=fitbit['MinutesOfSleep'], y=fitbit['Steps'])\n",
    "plt.xlabel('Minutes of Sleep')\n",
    "plt.ylabel('Steps')\n",
    "plt.title('Minutes of Sleep vs Steps')\n",
    "plt.show()\n"
   ]
  },
  {
   "attachments": {},
   "cell_type": "markdown",
   "metadata": {},
   "source": [
    "#### Select a subset of your dataset with the columns below and compute the correlation matrix. Save the results in the variable `cor_fit`\n",
    "column= ['Calorie burned', 'Steps','Floors','Minutes Sedentary','Minutes Very Active', 'MinutesOfSleep']"
   ]
  },
  {
   "cell_type": "code",
   "execution_count": 63,
   "metadata": {},
   "outputs": [
    {
     "name": "stdout",
     "output_type": "stream",
     "text": [
      "                     Calorie burned     Steps    Floors  Minutes Sedentary   \n",
      "Calorie burned             1.000000  0.255305  0.130757           0.125353  \\\n",
      "Steps                      0.255305  1.000000  0.306511           0.076906   \n",
      "Floors                     0.130757  0.306511  1.000000           0.057812   \n",
      "Minutes Sedentary          0.125353  0.076906  0.057812           1.000000   \n",
      "Minutes Very Active        0.197881  0.571452  0.399503           0.105963   \n",
      "MinutesOfSleep             0.011485  0.130986  0.069464           0.204242   \n",
      "\n",
      "                     Minutes Very Active  MinutesOfSleep  \n",
      "Calorie burned                  0.197881        0.011485  \n",
      "Steps                           0.571452        0.130986  \n",
      "Floors                          0.399503        0.069464  \n",
      "Minutes Sedentary               0.105963        0.204242  \n",
      "Minutes Very Active             1.000000        0.108018  \n",
      "MinutesOfSleep                  0.108018        1.000000  \n"
     ]
    }
   ],
   "source": [
    "subset = fitbit[['Calorie burned', 'Steps', 'Floors', 'Minutes Sedentary', 'Minutes Very Active', 'MinutesOfSleep']]\n",
    "cor_fit = subset.corr()\n",
    "print(cor_fit)\n"
   ]
  },
  {
   "attachments": {},
   "cell_type": "markdown",
   "metadata": {},
   "source": [
    "#### Based on the result of the correlation matrix. What are the highly correlated features with the variable Steps?\n",
    "*Hint: From the results above select the variable Steps and order your results in descending order (use Pandas sort_values function)*"
   ]
  },
  {
   "cell_type": "code",
   "execution_count": 65,
   "metadata": {},
   "outputs": [
    {
     "name": "stdout",
     "output_type": "stream",
     "text": [
      "Steps                  1.000000\n",
      "Minutes Very Active    0.571452\n",
      "Floors                 0.306511\n",
      "Calorie burned         0.255305\n",
      "MinutesOfSleep         0.130986\n",
      "Minutes Sedentary      0.076906\n",
      "Name: Steps, dtype: float64\n"
     ]
    }
   ],
   "source": [
    "steps_correlation = cor_fit['Steps'].sort_values(ascending=False)\n",
    "print(steps_correlation)\n"
   ]
  },
  {
   "attachments": {},
   "cell_type": "markdown",
   "metadata": {},
   "source": [
    "# Challenge 3"
   ]
  },
  {
   "attachments": {},
   "cell_type": "markdown",
   "metadata": {},
   "source": [
    "#### Open the `Time_Grades.csv` file and name your dataset `time_grades`."
   ]
  },
  {
   "cell_type": "code",
   "execution_count": 70,
   "metadata": {},
   "outputs": [
    {
     "data": {
      "text/html": [
       "<div>\n",
       "<style scoped>\n",
       "    .dataframe tbody tr th:only-of-type {\n",
       "        vertical-align: middle;\n",
       "    }\n",
       "\n",
       "    .dataframe tbody tr th {\n",
       "        vertical-align: top;\n",
       "    }\n",
       "\n",
       "    .dataframe thead th {\n",
       "        text-align: right;\n",
       "    }\n",
       "</style>\n",
       "<table border=\"1\" class=\"dataframe\">\n",
       "  <thead>\n",
       "    <tr style=\"text-align: right;\">\n",
       "      <th></th>\n",
       "      <th>Name</th>\n",
       "      <th>Study time</th>\n",
       "      <th>Grade</th>\n",
       "    </tr>\n",
       "  </thead>\n",
       "  <tbody>\n",
       "    <tr>\n",
       "      <th>0</th>\n",
       "      <td>Jose</td>\n",
       "      <td>4</td>\n",
       "      <td>4</td>\n",
       "    </tr>\n",
       "    <tr>\n",
       "      <th>1</th>\n",
       "      <td>Maria</td>\n",
       "      <td>9</td>\n",
       "      <td>7</td>\n",
       "    </tr>\n",
       "    <tr>\n",
       "      <th>2</th>\n",
       "      <td>David</td>\n",
       "      <td>8</td>\n",
       "      <td>9</td>\n",
       "    </tr>\n",
       "    <tr>\n",
       "      <th>3</th>\n",
       "      <td>Sonia</td>\n",
       "      <td>10</td>\n",
       "      <td>7</td>\n",
       "    </tr>\n",
       "    <tr>\n",
       "      <th>4</th>\n",
       "      <td>Samuel</td>\n",
       "      <td>20</td>\n",
       "      <td>9</td>\n",
       "    </tr>\n",
       "    <tr>\n",
       "      <th>5</th>\n",
       "      <td>Eva</td>\n",
       "      <td>5</td>\n",
       "      <td>3</td>\n",
       "    </tr>\n",
       "    <tr>\n",
       "      <th>6</th>\n",
       "      <td>Carlos</td>\n",
       "      <td>12</td>\n",
       "      <td>7</td>\n",
       "    </tr>\n",
       "    <tr>\n",
       "      <th>7</th>\n",
       "      <td>Pedro</td>\n",
       "      <td>6</td>\n",
       "      <td>5</td>\n",
       "    </tr>\n",
       "    <tr>\n",
       "      <th>8</th>\n",
       "      <td>Ana</td>\n",
       "      <td>18</td>\n",
       "      <td>9</td>\n",
       "    </tr>\n",
       "    <tr>\n",
       "      <th>9</th>\n",
       "      <td>Gervasio</td>\n",
       "      <td>7</td>\n",
       "      <td>3</td>\n",
       "    </tr>\n",
       "    <tr>\n",
       "      <th>10</th>\n",
       "      <td>Gemma</td>\n",
       "      <td>7</td>\n",
       "      <td>8</td>\n",
       "    </tr>\n",
       "    <tr>\n",
       "      <th>11</th>\n",
       "      <td>Alicia</td>\n",
       "      <td>11</td>\n",
       "      <td>7</td>\n",
       "    </tr>\n",
       "    <tr>\n",
       "      <th>12</th>\n",
       "      <td>Jonathan</td>\n",
       "      <td>2</td>\n",
       "      <td>1</td>\n",
       "    </tr>\n",
       "    <tr>\n",
       "      <th>13</th>\n",
       "      <td>Cristina</td>\n",
       "      <td>13</td>\n",
       "      <td>8</td>\n",
       "    </tr>\n",
       "    <tr>\n",
       "      <th>14</th>\n",
       "      <td>Pilar</td>\n",
       "      <td>3</td>\n",
       "      <td>2</td>\n",
       "    </tr>\n",
       "  </tbody>\n",
       "</table>\n",
       "</div>"
      ],
      "text/plain": [
       "        Name  Study time  Grade\n",
       "0       Jose           4      4\n",
       "1      Maria           9      7\n",
       "2      David           8      9\n",
       "3      Sonia          10      7\n",
       "4     Samuel          20      9\n",
       "5        Eva           5      3\n",
       "6     Carlos          12      7\n",
       "7      Pedro           6      5\n",
       "8        Ana          18      9\n",
       "9   Gervasio           7      3\n",
       "10     Gemma           7      8\n",
       "11    Alicia          11      7\n",
       "12  Jonathan           2      1\n",
       "13  Cristina          13      8\n",
       "14     Pilar           3      2"
      ]
     },
     "execution_count": 70,
     "metadata": {},
     "output_type": "execute_result"
    }
   ],
   "source": [
    "\n",
    "time_grades = pd.read_csv(\"Time_Grades.csv\")\n",
    "time_grades"
   ]
  },
  {
   "attachments": {},
   "cell_type": "markdown",
   "metadata": {},
   "source": [
    "#### Show visually the frequency distribution of the time_grades dataset."
   ]
  },
  {
   "cell_type": "code",
   "execution_count": 69,
   "metadata": {},
   "outputs": [
    {
     "data": {
      "image/png": "[encoded data removed]",
      "text/plain": [
       "<Figure size 640x480 with 1 Axes>"
      ]
     },
     "metadata": {},
     "output_type": "display_data"
    }
   ],
   "source": [
    "plt.hist(time_grades, bins=10, edgecolor='black')\n",
    "plt.xlabel('Time Grades')\n",
    "plt.ylabel('Frequency')\n",
    "plt.title('Frequency Distribution of Time Grades')\n",
    "plt.show()"
   ]
  },
  {
   "attachments": {},
   "cell_type": "markdown",
   "metadata": {},
   "source": [
    "#### Is there a correlation between study time and Grade? Use both Pearson and Spearman correlation and comment your results."
   ]
  },
  {
   "cell_type": "code",
   "execution_count": 81,
   "metadata": {},
   "outputs": [
    {
     "name": "stdout",
     "output_type": "stream",
     "text": [
      "Pearson correlation coefficient: 0.7980456073578858\n",
      "Pearson p-value: 0.00036276352563427227\n",
      "Spearman correlation coefficient: 0.819658753036942\n",
      "Spearman p-value: 0.00018377469445788485\n"
     ]
    }
   ],
   "source": [
    "import pandas as pd\n",
    "from scipy.stats import pearsonr, spearmanr\n",
    "\n",
    "pearson_corr, pearson_p_value = pearsonr(time_grades['Study time'], time_grades['Grade'])\n",
    "spearman_corr, spearman_p_value = spearmanr(time_grades['Study time'],time_grades['Grade'])\n",
    "\n",
    "print(\"Pearson correlation coefficient:\", pearson_corr)\n",
    "print(\"Pearson p-value:\", pearson_p_value)\n",
    "print(\"Spearman correlation coefficient:\", spearman_corr)\n",
    "print(\"Spearman p-value:\", spearman_p_value)\n"
   ]
  },
  {
   "attachments": {},
   "cell_type": "markdown",
   "metadata": {},
   "source": [
    "#### Use matplotlib to visually plot Study time vs Grade. Based on the results of the computed correlation and the plot. What can you say about these 2 variables?"
   ]
  },
  {
   "cell_type": "code",
   "execution_count": 86,
   "metadata": {},
   "outputs": [
    {
     "data": {
      "image/png": "[encoded data removed]",
      "text/plain": [
       "<Figure size 640x480 with 1 Axes>"
      ]
     },
     "metadata": {},
     "output_type": "display_data"
    }
   ],
   "source": [
    "plt.scatter(time_grades['Study time'], time_grades['Grade'])\n",
    "plt.xlabel('Study time')\n",
    "plt.ylabel('Grade')\n",
    "plt.title('Study time vs. Grade')\n",
    "plt.show()"
   ]
  },
  {
   "attachments": {},
   "cell_type": "markdown",
   "metadata": {},
   "source": [
    "#### Could you explain the difference between Pearson and Spearman correlation? (see References in README.md) "
   ]
  },
  {
   "cell_type": "code",
   "execution_count": 88,
   "metadata": {},
   "outputs": [],
   "source": [
    "# Pearson é para variaveis lineares, enquanto Spearman nao tem uma correlacao linear."
   ]
  },
  {
   "cell_type": "code",
   "execution_count": null,
   "metadata": {},
   "outputs": [],
   "source": []
  }
 ],
 "metadata": {
  "anaconda-cloud": {},
  "kernelspec": {
   "display_name": "Python 3",
   "language": "python",
   "name": "python3"
  },
  "language_info": {
   "codemirror_mode": {
    "name": "ipython",
    "version": 3
   },
   "file_extension": ".py",
   "mimetype": "text/x-python",
   "name": "python",
   "nbconvert_exporter": "python",
   "pygments_lexer": "ipython3",
   "version": "3.11.2"
  }
 },
 "nbformat": 4,
 "nbformat_minor": 1
}
